{
 "cells": [
  {
   "cell_type": "markdown",
   "metadata": {},
   "source": [
    "# Wumplot Word"
   ]
  },
  {
   "cell_type": "markdown",
   "metadata": {},
   "source": [
    "## Importing libraries"
   ]
  },
  {
   "cell_type": "code",
   "execution_count": 59,
   "metadata": {},
   "outputs": [],
   "source": [
    "from IPython.display import clear_output\n",
    "import numpy as np\n",
    "import matplotlib.pyplot as plt \n",
    "%matplotlib inline "
   ]
  },
  {
   "cell_type": "markdown",
   "metadata": {},
   "source": [
    "## Game Parameters"
   ]
  },
  {
   "cell_type": "code",
   "execution_count": 60,
   "metadata": {},
   "outputs": [],
   "source": [
    "number_of_wumpus = 10\n",
    "number_of_holes = 10"
   ]
  },
  {
   "cell_type": "markdown",
   "metadata": {},
   "source": [
    "## End Game"
   ]
  },
  {
   "cell_type": "code",
   "execution_count": 61,
   "metadata": {},
   "outputs": [],
   "source": [
    "def end_game(dangers, pos):\n",
    "    alive = True\n",
    "    for danger_pos in dangers.T:\n",
    "        if pos[0] == danger_pos[0] and pos[1] == danger_pos[1]:\n",
    "            alive = False\n",
    "            clear_output()\n",
    "            plt.figure(figsize = (4,4))\n",
    "            plt.plot(0,0, color = 'k', marker = 's', markersize = 3000)\n",
    "            plt.axis('off')\n",
    "            plt.title('WASTED')\n",
    "            plt.show()\n",
    "    return alive"
   ]
  },
  {
   "cell_type": "markdown",
   "metadata": {},
   "source": [
    "## Win Game"
   ]
  },
  {
   "cell_type": "code",
   "execution_count": 62,
   "metadata": {},
   "outputs": [],
   "source": [
    "def win_game(pos, treasure):\n",
    "    win = False\n",
    "    if sum(np.array(pos)==np.array(treasure))==2:\n",
    "        win = True\n",
    "        clear_output()\n",
    "        plt.figure(figsize = (4,4))\n",
    "        plt.plot(0,0, color = 'yellow', marker = 's', markersize = 3000)\n",
    "        plt.axis('off')\n",
    "        plt.title('WIN')\n",
    "        plt.show()\n",
    "    return win"
   ]
  },
  {
   "cell_type": "markdown",
   "metadata": {},
   "source": [
    "## Displaying game"
   ]
  },
  {
   "cell_type": "code",
   "execution_count": 63,
   "metadata": {},
   "outputs": [],
   "source": [
    "def plot_game(pos, wumpus, holes, treasure, width = 5, height = 5):\n",
    "    clear_output()\n",
    "    plt.figure(figsize = (4, 4))\n",
    "    plt.plot([pos[0]], [pos[1]], linestyle ='', marker = 'x', markersize = 20, c = 'green')\n",
    "    plt.plot([treasure[0]], [treasure[1]], linestyle ='', marker = 'o', markersize = 20, c = 'yellow')\n",
    "    plt.plot([wumpus[0]], [wumpus[1]], linestyle = '', marker = 'x', markersize = 20, c = 'red')\n",
    "    plt.plot([holes[0]], [holes[1]], linestyle = '', marker = 'o', markersize = 20, c = 'black')\n",
    "    plt.xlim(-width-1, width+1)\n",
    "    plt.ylim(-height-1, height+1)\n",
    "    plt.axis('off')\n",
    "    plt.show()"
   ]
  },
  {
   "cell_type": "markdown",
   "metadata": {},
   "source": [
    "# The Game\n",
    "\n",
    "The goal of this game is to reach the treasure : you are the green cross and you must reach the yellow square. Beware of the holes (black circles) and of the wumpus (red crosses). Oh and the wumpus move randomly...\n",
    "\n",
    "Good luck !"
   ]
  },
  {
   "cell_type": "code",
   "execution_count": 64,
   "metadata": {},
   "outputs": [
    {
     "data": {
      "image/png": "[encoded data removed]",
      "text/plain": [
       "<matplotlib.figure.Figure at 0x11394dac8>"
      ]
     },
     "metadata": {},
     "output_type": "display_data"
    }
   ],
   "source": [
    "\n",
    "treasure = np.random.randint(low = -5, high = 6, size = 2)\n",
    "pos = [0,0]\n",
    "wumpus = np.random.randint(low = -5, high = 6, size = (2, number_of_wumpus))\n",
    "holes = np.random.randint(low = -5, high= 6, size = (2, number_of_holes))\n",
    "alive = True\n",
    "win = False\n",
    "\n",
    "while alive and not win:\n",
    "    \n",
    "    plot_game(pos, wumpus, holes, treasure)\n",
    "    \n",
    "    alive = end_game(wumpus, pos) and end_game(holes, pos) \n",
    "    if alive : win = win_game(pos, treasure)\n",
    "    if alive and not win: \n",
    "        # moving the player\n",
    "        direction = input('which direction? q/z/d/s and enter')\n",
    "        if len(direction)<1:\n",
    "            clear_output()\n",
    "            continue\n",
    "        else : \n",
    "            direction = direction[0]\n",
    "\n",
    "        if   direction == 'z':\n",
    "            pos[1] += 1\n",
    "        elif direction == 's':\n",
    "            pos[1] -= 1\n",
    "        elif direction == 'q':\n",
    "            pos[0] -= 1\n",
    "        elif direction == 'd':\n",
    "            pos[0] += 1\n",
    "        else : break\n",
    "        # moving wumpus\n",
    "        wumpus += np.random.randint(low = -1, high = 2, size = (2,number_of_wumpus))\n",
    "        wumpus = np.max([np.ones((2,number_of_wumpus))*-5, wumpus], axis = 0)\n",
    "        wumpus = np.min([np.ones((2,number_of_wumpus))*5, wumpus], axis = 0)\n",
    "    \n",
    "    \n",
    "        \n",
    "        "
   ]
  }
 ],
 "metadata": {
  "kernelspec": {
   "display_name": "Python 3",
   "language": "python",
   "name": "python3"
  },
  "language_info": {
   "codemirror_mode": {
    "name": "ipython",
    "version": 3
   },
   "file_extension": ".py",
   "mimetype": "text/x-python",
   "name": "python",
   "nbconvert_exporter": "python",
   "pygments_lexer": "ipython3",
   "version": "3.6.4"
  }
 },
 "nbformat": 4,
 "nbformat_minor": 2
}
